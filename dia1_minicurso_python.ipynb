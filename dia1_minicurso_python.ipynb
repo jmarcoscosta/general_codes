{
 "cells": [
  {
   "cell_type": "markdown",
   "metadata": {},
   "source": [
    "# Minicurso interno de Python do PET-EE : Dia 1\n",
    "\n",
    "#### Autor: João Marcos Costa, xx de Setembro de 2017 (última atualização)\n",
    "\n",
    "## Objetivos\n",
    "\n",
    "- Dar os primeiros passos com Python\n",
    "- Funções básicas\n",
    "- Tipos de dados e estruturas de dados\n",
    "- NumPy\n",
    "- Matplotlib"
   ]
  },
  {
   "cell_type": "markdown",
   "metadata": {},
   "source": [
    "## Exemplo 1: Máquinas Elétricas - Sistemas de excitação múltipla\n",
    "**Teoria:**\n",
    "\n",
    "Neste caso, temos um sistema excitado por duas fontes, como mostra a figura abaixo:\n",
    "\n",
    "<img src='magnetic.png' >\n",
    "\n",
    "Queremos extrair duas informações desse sistema:\n",
    "- Coenergia\n",
    "- Torque no rotor\n",
    "\n",
    "Para isso, temos as fórmulas da coenergia e torque, respectivamente: \n",
    "\n",
    "$$ W'_{fld}(i_{1},i_{2},\\theta) = \\frac{1}{2}L_{11}i_{1}^{2} + L_{12}i_{1}i_{2}     +\\frac{1}{2}L_{22}i_{2}^{2}$$\n",
    "\n",
    "O Torque (ou Conjugado) é a derivada parcial da coenergia para o ângulo $\\theta$:\n",
    "$$ T_{fld}(\\theta) = \\frac{i_{1}^2}{2}\\frac{dL_{11}(\\theta)}{d(\\theta)}+ \\frac{i_{2}^2}{2}\\frac{dL_{22}(\\theta)}{d(\\theta)} + i_{1}i_{2}\\frac{dL_{12}(\\theta)}{d(\\theta)}$$\n",
    "\n",
    "Nesse sistema específico, temos os seguintes valores de indutância e corrente:\n",
    "$$ L_{11} = (3+\\cos(2\\theta))\\cdot 10^{-3}, L_{22} = 0.3\\cdot \\cos(\\theta),L_{12} = (30+10\\cos(2\\theta))$$\n",
    "$$ i_{1} = 0.8A, i_{2}=0.3A$$\n",
    "\n",
    "**Prática:**\n",
    "- Plotar o gráfico da coenergia\n",
    "- Plotar o gráfico do torque: linhas do torque total, torque pelas indutâncias mútuas e individuais. Deve conter: legendas, cor de linha, títulos, grid e zoom.\n",
    "- Fazer um subplot dos dois gráficos acima\n",
    "- Medir tempos de execução da parte de cálculo\n",
    "\n",
    "O resultado deve ser semelhante ao mostrado abaixo (fonte: _A. E. Fitzgerald, Charles Kingsley Jr., Stephen Umans Electric machinery_):\n",
    "\n",
    "<img src='magnetic2.png' >\n"
   ]
  }
 ],
 "metadata": {
  "kernelspec": {
   "display_name": "Python 3",
   "language": "python",
   "name": "python3"
  },
  "language_info": {
   "codemirror_mode": {
    "name": "ipython",
    "version": 3
   },
   "file_extension": ".py",
   "mimetype": "text/x-python",
   "name": "python",
   "nbconvert_exporter": "python",
   "pygments_lexer": "ipython3",
   "version": "3.4.5"
  }
 },
 "nbformat": 4,
 "nbformat_minor": 2
}
