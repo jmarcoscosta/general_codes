{
 "cells": [
  {
   "cell_type": "markdown",
   "metadata": {},
   "source": [
    "# Minicurso interno de Python do PET-EE\n",
    "\n",
    "#### Autor: João Marcos Costa, xx de Setembro de 2017 (última atualização)\n",
    "\n",
    "## Objetivos\n",
    "\n",
    "- Oferecer uma introdução conceitual e prática ao Python\n",
    "- Apresentar ferramentas novas: IPython, Spyder, GitHub e Linux\n",
    "- Dar exemplos práticos de engenharia (Python vs. Matlab)"
   ]
  },
  {
   "cell_type": "markdown",
   "metadata": {
    "collapsed": true
   },
   "source": [
    "## Por quê Python?\n",
    "\n",
    "As vantagens do Python sobre linguagens como Java,C/C++,C#, entre outras, são, basicamente:\n",
    "- A curva de aprendizado é bem menor, ou seja, muito mais fácil de se aprender\n",
    "- Menos tempo de concepção de códigos\n",
    "- Sintaxe bem clara: muitas vezes, basta ler o código para entender o que está sendo feito, sem precisar recorrer à documentação ou ao StackOverflow\n",
    "- Gratuito (não que as linguagens citadas sejam pagas): é possível desenvolver aplicações sem nenhum custo embutido, já que o Python é OpenSource. Matlab, por exemplo, requer licença\n",
    "- Portabilidade: códigos Python (.py) podem ser compartilhados abertos em qualquer lugar, gratuitamente\n",
    "- Otimizada para trabalhar com matrizes e vetores, assim como o Matlab\n",
    "- Ampla biblioteca padrão\n",
    "\n",
    "\n",
    "Além disso, foi escolhida como a linguagem mais utilizada em 2017 pelo IEEE Spectrum: https://spectrum.ieee.org/computing/software/the-2017-top-programming-languages\n",
    "\n",
    "## Por quê não Python?\n",
    "- Linguagens compiladas , como C/C++, (Python é interpretada) normalmente apresentam uma velocidade de execução maior\n",
    "- Não é aconselhável para projetos com capacidade de memória e processamento restritos\n",
    "- Não é tão utilizada para desenvolvimento mobile \n",
    "\n",
    "<img src='f1.jpg' style=\"width:720px;height:250px;\">\n"
   ]
  },
  {
   "cell_type": "markdown",
   "metadata": {},
   "source": [
    "## Linux\n",
    "\n",
    "Ao contrário do Windows, distribuições GNU/Linux são gratuitas, possuindo bastante documentação e tutoriais, especialmente o Ubuntu. É muito comum que usuários - acostumados com o Windows - estranhem os primeiros momentos de uso do Ubuntu (ou qualquer outra _distro_), já que nunca trabalharam com o Terminal (linha de comando), por exemplo. Apesar de, aparentemente, não existirem tantas vantagens em sair da zona de conforto do Windows, eis algumas que deverão te convencer a adotar esse tipo de sistema operacional:\n",
    "\n",
    "- Mais bibliotecas disponíveis (para várias linguagens)\n",
    "- Muitas vezes não é necessário instalar nada para programar em alguma linguagem, pois seu intepretador/compilador já vem por padrão no sistema\n",
    "- Maior suporte da comunidade: são milhões - literalmente - de usuários GNU/Linux pelo mundo, então qualquer problema que você tiver, provavelmente alguém já teve e postou a solução em algum fórum, ou no StackOverflow\n",
    "- Reiterando: é gratuito. As pessoas se acostumaram a usar serviços pagos (Windows, Office e Matlab) gratuitamente, sem se darem conta da pirataria, e empresas sérias não trabalham assim\n",
    "\n",
    "<img src='f2.jpg' style=\"width:720px;height:250px;\">\n"
   ]
  },
  {
   "cell_type": "markdown",
   "metadata": {},
   "source": [
    "## GitHub\n",
    "\n",
    "Para quem programa com frequência, trabalha em projetos de desenvolvimento coletivo/individual, ou está em busca de uma vaga como programador, o GitHub é uma excelente plataforma para postagem de códigos e repositórios. Enquanto o GitHub é um serviço de host, a ferramenta de gerenciamento e versionamento mesmo é o Git. **OBSERVAÇÃO: GIT E GITHUB NÃO SÃO A MESMA COISA!**\n",
    "<img src='f3.jpg' style=\"width:720px;height:250px;\">\n"
   ]
  },
  {
   "cell_type": "markdown",
   "metadata": {},
   "source": [
    "## Bibliotecas e Frameworks mais utilizados \n",
    "\n",
    "Bibliotecas (módulos,pacotes) são um apanhado de funções e classes (com seus atributos e métodos) feitas para atender uma necessidade específica do programador. Como a programação em Python é gratuita, bem como colaborativa, várias pessoas, grupos e organizações se dedicaram a criar diversas bibliotecas para que elas e outros usuários pudessem trabalhar com um tipo X de atividade. Aqui estão listadas as mais utilizadas, para diversos fins:\n",
    "\n"
   ]
  },
  {
   "cell_type": "markdown",
   "metadata": {},
   "source": [
    "## Bibliografia recomendada\n",
    "add livros e o repositório da disciplina"
   ]
  },
  {
   "cell_type": "code",
   "execution_count": null,
   "metadata": {
    "collapsed": true
   },
   "outputs": [],
   "source": []
  }
 ],
 "metadata": {
  "kernelspec": {
   "display_name": "Python 3",
   "language": "python",
   "name": "python3"
  },
  "language_info": {
   "codemirror_mode": {
    "name": "ipython",
    "version": 3
   },
   "file_extension": ".py",
   "mimetype": "text/x-python",
   "name": "python",
   "nbconvert_exporter": "python",
   "pygments_lexer": "ipython3",
   "version": "3.6.1"
  }
 },
 "nbformat": 4,
 "nbformat_minor": 2
}
