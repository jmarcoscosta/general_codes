{
 "cells": [
  {
   "cell_type": "markdown",
   "metadata": {},
   "source": [
    "# Minicurso interno de Python do PET-EE : Dia 1\n",
    "\n",
    "#### Autor: João Marcos Costa, xx de Setembro de 2017 (última atualização)\n",
    "\n",
    "## Objetivos\n",
    "\n",
    "- Dar os primeiros passos com Python\n",
    "- Funções básicas\n",
    "- Tipos de dados e estruturas de dados\n",
    "- NumPy\n",
    "- Matplotlib"
   ]
  },
  {
   "cell_type": "markdown",
   "metadata": {},
   "source": [
    "## Exemplo 1: Máquinas Elétricas - Sistemas de excitação múltipla\n",
    "**Teoria:**\n",
    "\n",
    "Neste caso, temos um sistema excitado por duas fontes, como mostra a figura abaixo:\n",
    "\n",
    "<img src='magnetic.png' >\n",
    "\n",
    "Queremos extrair duas informações desse sistema:\n",
    "- Coenergia\n",
    "- Torque no rotor\n",
    "\n",
    "Para isso, temos as fórmulas da coenergia e torque, respectivamente: \n",
    "\n",
    "$$ W'_{fld}(i_{1},i_{2},\\theta) = \\frac{1}{2}L_{11}i_{1}^{2} + L_{12}i_{1}i_{2}     +\\frac{1}{2}L_{22}i_{2}^{2}$$\n",
    "\n",
    "O Torque (ou Conjugado) é a derivada parcial da coenergia para o ângulo $\\theta$:\n",
    "$$ T_{fld}(\\theta) = \\frac{i_{1}^2}{2}\\frac{dL_{11}(\\theta)}{d(\\theta)}+ \\frac{i_{2}^2}{2}\\frac{dL_{22}(\\theta)}{d(\\theta)} + i_{1}i_{2}\\frac{dL_{12}(\\theta)}{d(\\theta)}$$\n",
    "\n",
    "Nesse sistema específico, temos os seguintes valores de indutância e corrente:\n",
    "$$ L_{11} = (3+\\cos(2\\theta))\\cdot 10^{-3}, L_{22} = 0.3\\cdot \\cos(\\theta),L_{12} = (30+10\\cos(2\\theta))$$\n",
    "$$ i_{1} = 0.8A, i_{2}=0.3A$$\n",
    "\n",
    "**Prática:**\n",
    "- Plotar o gráfico da coenergia\n",
    "- Plotar o gráfico do torque: linhas do torque total, torque pelas indutâncias mútuas e individuais. Deve conter: legendas, cor de linha, títulos, grid e zoom.\n",
    "- Fazer um subplot dos dois gráficos acima\n",
    "- Medir tempos de execução da parte de cálculo\n",
    "\n",
    "O resultado deve ser semelhante ao mostrado abaixo (fonte: _A. E. Fitzgerald, Charles Kingsley Jr., Stephen Umans Electric machinery_):\n",
    "\n",
    "<img src='magnetic2.png' >\n"
   ]
  },
  {
   "cell_type": "markdown",
   "metadata": {},
   "source": [
    "## Exemplo 2: mapa de cobertura de dois roteadores sem fio\n",
    "\n",
    "\n",
    "A ideia é calcular a potência recebida em dBm para pontos equidistantes de 5 em 5 metros em uma área de cobertura de 200 por 200 m. A seguintes especificações devem ser obedecidas:\n",
    "\n",
    "1. Os roteadores devem ser posicionados no meio do grid em relação a abscissa. Em relação ao eixo das ordenadas, o primeiro e segundo roteador deve ficar a 20% e a 80% da dimensão vertical da área de cobertura, respectivamente\n",
    "2. A potência de transmissão do roteador deve ser $P_T$ = 1 W\n",
    "3. Considere somente perda de percurso como manifestação de canal. Assim, a potência recebida ($P_R$) pode ser calculada como $P_R = P_T/d^4$, sendo $d$ a distância entre o roteador e o ponto de recepção.\n",
    "\n",
    "A figura a seguir ilustra o sistema:\n",
    "\n",
    "<img src='slide30.png' >\n",
    "\n",
    "Neste caso, vamos implementar esse código de duas maneiras: primeiramente com operações matriciais, e depois com laço FOR, para fazer uma comparação de desempenho. "
   ]
  },
  {
   "cell_type": "code",
   "execution_count": 12,
   "metadata": {},
   "outputs": [
    {
     "name": "stderr",
     "output_type": "stream",
     "text": [
      "/home/pesquisador/anaconda3/lib/python3.5/site-packages/ipykernel_launcher.py:15: RuntimeWarning: divide by zero encountered in true_divide\n",
      "  from ipykernel import kernelapp as app\n",
      "/home/pesquisador/anaconda3/lib/python3.5/site-packages/ipykernel_launcher.py:16: RuntimeWarning: divide by zero encountered in true_divide\n",
      "  app.launch_new_instance()\n"
     ]
    },
    {
     "data": {
      "image/png": "[encoded data removed]",
      "text/plain": [
       "<matplotlib.figure.Figure at 0x7f37d5d267b8>"
      ]
     },
     "metadata": {},
     "output_type": "display_data"
    }
   ],
   "source": [
    "import numpy as np \n",
    "import matplotlib.pyplot as plt \n",
    "\n",
    "d_passo = 5\n",
    "d_dimensao = 200\n",
    "nl = (d_dimensao-2*d_passo)/d_passo + 1\n",
    "\n",
    "x = np.arange(d_passo,d_dimensao-d_passo,d_passo)\n",
    "y = np.arange(d_passo,d_dimensao-d_passo,d_passo)\n",
    "X,Y = np.meshgrid(x,y)\n",
    "\n",
    "roteador_1_coords = X + 1j*Y - (d_dimensao/2 + 0.8*d_dimensao*1j)\n",
    "roteador_2_coords = X + 1j*Y - (d_dimensao/2 + 0.8*d_dimensao*1j)\n",
    "\n",
    "roteador_1_pot_dbm = 10*np.log10(1/np.abs(roteador_1_coords)**4/1e-3)\n",
    "roteador_2_pot_dbm = 10*np.log10(1/np.abs(roteador_2_coords)**4/1e-3)\n",
    "\n",
    "roteador_1_2_pot_dbm = np.maximum(roteador_1_pot_dbm,roteador_2_pot_dbm)\n",
    "\n",
    "plt.matshow(roteador_1_pot_dbm+roteador_2_pot_dbm)\n",
    "plt.colorbar()\n",
    "plt.show()\n"
   ]
  },
  {
   "cell_type": "code",
   "execution_count": 5,
   "metadata": {
    "collapsed": true
   },
   "outputs": [],
   "source": [
    "np.absolute?"
   ]
  },
  {
   "cell_type": "code",
   "execution_count": null,
   "metadata": {
    "collapsed": true
   },
   "outputs": [],
   "source": []
  }
 ],
 "metadata": {
  "kernelspec": {
   "display_name": "Python 3",
   "language": "python",
   "name": "python3"
  },
  "language_info": {
   "codemirror_mode": {
    "name": "ipython",
    "version": 3
   },
   "file_extension": ".py",
   "mimetype": "text/x-python",
   "name": "python",
   "nbconvert_exporter": "python",
   "pygments_lexer": "ipython3",
   "version": "3.5.0"
  }
 },
 "nbformat": 4,
 "nbformat_minor": 2
}
